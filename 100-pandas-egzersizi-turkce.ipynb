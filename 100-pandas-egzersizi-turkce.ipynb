{
 "cells": [
  {
   "cell_type": "markdown",
   "metadata": {},
   "source": [
    "# 100 pandas puzzles\n",
    "\n",
    "\n",
    "[100 Numpy exerises] (https://github.com/rougier/numpy-100) esinlenerek, burada [pandas] bilginizi sınamak için 100 * kısa bulmacalar (http://pandas.pydata.org/) güç.\n",
    "\n",
    "Pandas, birçok farklı uzmanlık özelliği ve işlevi olan büyük bir kütüphane olduğu için, bu alıştırmalar esas olarak veriyi manipüle etme (indeksleme, gruplama, toplama, temizleme), temel DataFrame ve Seri nesnelerini kullanma temellerine odaklanır.\n",
    "\n",
    "Buradaki pek çok örnek, çözümlerin birkaç satırdan daha fazlasını gerektirmemesi (pandasda veya NumPy'de ... saf Python veya Cython kullanmayın! Doğru yöntemleri seçmek ve en iyi uygulamaları takip etmek temel amaçtır.\n",
    "\n",
    "Egzersizler bölümlere gevşek bir şekilde ayrılmıştır. Her bölümün bir zorluk derecesi vardır; Bu derecelendirmeler elbette subjektiftir, ancak gerekli olan çözümün ne kadar yaratıcı olduğu konusunda kaba bir kılavuz olarak görülmelidir.\n",
    "\n",
    "Eğer pandasla yeni başlıyorsanız ve başka kaynaklar arıyorsanız, resmi belgeler çok kapsamlıdır. Özellikle, bazı iyi yerlerde pandasın daha geniş bir bakış açısı vardır ...\n",
    "\n",
    "- [Pandalara 10 dakika] (http://pandas.pydata.org/pandas-docs/stable/10min.html)\n",
    "- [pandalar temelleri] (http://pandas.pydata.org/pandas-docs/stable/basics.html)\n",
    "- [eğiticiler] (http://pandas.pydata.org/pandas-docs/stable/tutorials.html)\n",
    "- [yemek kitabı ve deyimler] (http://pandas.pydata.org/pandas-docs/stable/cookbook.html#cookbook)\n",
    "\n",
    "Bulmacaların tadını çıkarın!\n",
    "\n",
    "\\ * * egzersizlerin listesi henüz tamamlanmadı! Ek alıştırmalar, düzeltmeler ve iyileştirmeler için istek veya önerileri çekin."
   ]
  },
  {
   "cell_type": "markdown",
   "metadata": {},
   "source": [
    "\n",
    "## Pandası içe aktarma\n",
    "\n",
    "### Başlamak ve Pandas kurulumunuzu kontrol etme\n",
    "\n",
    "Zorluk: * kolay *\n",
    "\n",
    "** 1. ** Pandas'ı pd olarak adlandırın."
   ]
  },
  {
   "cell_type": "code",
   "execution_count": null,
   "metadata": {},
   "outputs": [],
   "source": []
  },
  {
   "cell_type": "markdown",
   "metadata": {},
   "source": [
    "**2.** Pandas versiyonunu kontrol edelim."
   ]
  },
  {
   "cell_type": "code",
   "execution_count": null,
   "metadata": {
    "collapsed": true
   },
   "outputs": [],
   "source": []
  },
  {
   "cell_type": "raw",
   "metadata": {},
   "source": [
    "**3.** Pandas kütüphanesi tarafından gerekli olan kütüphanelerin tüm sürüm bilgilerini yazdırın.\n"
   ]
  },
  {
   "cell_type": "code",
   "execution_count": null,
   "metadata": {
    "collapsed": true
   },
   "outputs": [],
   "source": []
  },
  {
   "cell_type": "markdown",
   "metadata": {},
   "source": [
    "# DataFrame temelleri\n",
    "\n",
    "### DataFrames'te veri seçme, sıralama, toplama ve birleştirme için temel rutinler\n",
    "\n",
    "Zorluk: * kolay *\n",
    "\n",
    "Not: Numpy'ı içe aktarmayı unutmayın:\n",
    "```python\n",
    "import numpy as np\n",
    "```\n",
    "Aşağıdaki Python sözlük `data` ve Python listesi `labels` düşünün:\n",
    "\n",
    "``` python\n",
    "data = {'animal': ['cat', 'cat', 'snake', 'dog', 'dog', 'cat', 'snake', 'cat', 'dog', 'dog'],\n",
    "        'age': [2.5, 3, 0.5, np.nan, 5, 2, 4.5, np.nan, 7, 3],\n",
    "        'visits': [1, 3, 2, 3, 2, 3, 1, 1, 2, 1],\n",
    "        'priority': ['yes', 'yes', 'no', 'yes', 'no', 'no', 'no', 'yes', 'no', 'no']}\n",
    "\n",
    "labels = ['a', 'b', 'c', 'd', 'e', 'f', 'g', 'h', 'i', 'j']\n",
    "```\n",
    "(Bu, hayvan temasıyla ve bir veterinere yapılan gezilerle yaptığım anlamsız verilerdir.)\n",
    "\n",
    "**4.** Başlıkları (heads) `labels` olan `data` mızı `df` adıyla bir DataFrame'e aktaralım.\n"
   ]
  },
  {
   "cell_type": "code",
   "execution_count": null,
   "metadata": {
    "collapsed": true
   },
   "outputs": [],
   "source": []
  },
  {
   "cell_type": "markdown",
   "metadata": {},
   "source": [
    "**5.** Bu DataFrame ve verileriyle ilgili temel bilgilerin bir özetini görüntüleyin."
   ]
  },
  {
   "cell_type": "code",
   "execution_count": null,
   "metadata": {
    "collapsed": true
   },
   "outputs": [],
   "source": []
  },
  {
   "cell_type": "markdown",
   "metadata": {},
   "source": [
    "**6.** DataFrame `df` nin ilk 3 satırını döndür."
   ]
  },
  {
   "cell_type": "code",
   "execution_count": null,
   "metadata": {
    "collapsed": true
   },
   "outputs": [],
   "source": []
  },
  {
   "cell_type": "markdown",
   "metadata": {},
   "source": [
    "**7.** DataFrame `df`den sadece `animal` ve `age` sütunlarını seçin."
   ]
  },
  {
   "cell_type": "code",
   "execution_count": null,
   "metadata": {
    "collapsed": true
   },
   "outputs": [],
   "source": []
  },
  {
   "cell_type": "markdown",
   "metadata": {},
   "source": [
    "**8.**  `[3, 4, 8]` inci satırlardaki *ve*  `['animal', 'age']` sütunlardaki verileri çekin."
   ]
  },
  {
   "cell_type": "code",
   "execution_count": null,
   "metadata": {
    "collapsed": true
   },
   "outputs": [],
   "source": []
  },
  {
   "cell_type": "markdown",
   "metadata": {},
   "source": [
    "**9.** Yalnızca ziyaret sayısı 3'ten büyük olan satırları seçin."
   ]
  },
  {
   "cell_type": "code",
   "execution_count": null,
   "metadata": {
    "collapsed": true
   },
   "outputs": [],
   "source": []
  },
  {
   "cell_type": "markdown",
   "metadata": {},
   "source": [
    "**10.** Yaşın eksik olduğu satırları seçin, yani `NaN`."
   ]
  },
  {
   "cell_type": "code",
   "execution_count": null,
   "metadata": {
    "collapsed": true
   },
   "outputs": [],
   "source": []
  },
  {
   "cell_type": "markdown",
   "metadata": {},
   "source": [
    "**11.** Hayvanın bir kedi olduğu *and* bunların yaşının 3'ten az olduğu verileri çekin."
   ]
  },
  {
   "cell_type": "code",
   "execution_count": null,
   "metadata": {
    "collapsed": true
   },
   "outputs": [],
   "source": []
  },
  {
   "cell_type": "markdown",
   "metadata": {},
   "source": [
    "**12.** Yaşın 2 ve 4 (dahil) olduğu satırları seçin.\n"
   ]
  },
  {
   "cell_type": "code",
   "execution_count": null,
   "metadata": {
    "collapsed": true
   },
   "outputs": [],
   "source": []
  },
  {
   "cell_type": "markdown",
   "metadata": {},
   "source": [
    "**13.** `f` satırındaki yaşı 1,5 olarak değiştirin."
   ]
  },
  {
   "cell_type": "code",
   "execution_count": null,
   "metadata": {
    "collapsed": true
   },
   "outputs": [],
   "source": []
  },
  {
   "cell_type": "markdown",
   "metadata": {},
   "source": [
    "**14.** Tüm ziyaretlerin toplamını hesaplayın (toplam ziyaret sayısı)."
   ]
  },
  {
   "cell_type": "code",
   "execution_count": null,
   "metadata": {
    "collapsed": true
   },
   "outputs": [],
   "source": []
  },
  {
   "cell_type": "markdown",
   "metadata": {},
   "source": [
    "**15.** `df`'deki her bir farklı hayvanın ortalama yaşını hesaplayın."
   ]
  },
  {
   "cell_type": "code",
   "execution_count": null,
   "metadata": {
    "collapsed": true
   },
   "outputs": [],
   "source": []
  },
  {
   "cell_type": "markdown",
   "metadata": {},
   "source": [
    "**16.** `df`'in her sütununa değerleri sizin tercihiniz olmak üzere 'k' satırı ekleyin. Sonra orijinal DataFrame'i döndürmek için bu satırı silin."
   ]
  },
  {
   "cell_type": "code",
   "execution_count": null,
   "metadata": {
    "collapsed": true
   },
   "outputs": [],
   "source": []
  },
  {
   "cell_type": "markdown",
   "metadata": {},
   "source": [
    "**17.** `df`'deki her bir hayvan türünü sayın."
   ]
  },
  {
   "cell_type": "code",
   "execution_count": null,
   "metadata": {
    "collapsed": true
   },
   "outputs": [],
   "source": []
  },
  {
   "cell_type": "markdown",
   "metadata": {},
   "source": [
    "**18.** `df`'i ilk olarak 'age' sütununu *azalan* sırayla, ardından 'visit' sütununu in *artan* sırayla sıralayın."
   ]
  },
  {
   "cell_type": "code",
   "execution_count": null,
   "metadata": {
    "collapsed": true
   },
   "outputs": [],
   "source": []
  },
  {
   "cell_type": "markdown",
   "metadata": {},
   "source": [
    "**19.** 'Priority' sütunu 'yes' ve 'no' değerlerini içerir. Bu sütunu, bir boolean değerleri sütunuyla değiştirin: 'yes', 'True' ve 'no', 'False' olmalıdır."
   ]
  },
  {
   "cell_type": "code",
   "execution_count": null,
   "metadata": {
    "collapsed": true
   },
   "outputs": [],
   "source": []
  },
  {
   "cell_type": "markdown",
   "metadata": {},
   "source": [
    "**20.** 'Hayvan' sütununda 'snake' girişlerini 'python' olarak değiştirin."
   ]
  },
  {
   "cell_type": "code",
   "execution_count": null,
   "metadata": {
    "collapsed": true
   },
   "outputs": [],
   "source": []
  },
  {
   "cell_type": "markdown",
   "metadata": {},
   "source": [
    "**21.** Her bir hayvan türü ve her bir ziyaret için, ortalama yaşı bulun. Diğer bir deyişle, her satır bir hayvandır, her sütun bir dizi ziyarettir ve değerler ortalama yaşlardır (ipucu: bir pivot tablo kullanın).\n"
   ]
  },
  {
   "cell_type": "code",
   "execution_count": null,
   "metadata": {
    "collapsed": true
   },
   "outputs": [],
   "source": []
  },
  {
   "cell_type": "markdown",
   "metadata": {},
   "source": [
    "\n",
    "## DataFrames: temellerin ötesinde\n",
    "\n",
    "### Biraz daha zor: Doğru cevabı almak için iki veya daha fazla yöntemi birleştirmeniz gerekebilir\n",
    "\n",
    "Zorluk: * orta *\n",
    "\n",
    "Önceki bölüm bazı temel ama temel DataFrame işlemleri ile tur oldu. Aşağıda verilerinizi kesmeniz gerekebilecek bazı yollar vardır, ancak bunun için tek bir \"kutudan çıkmış\" yöntemi yoktur."
   ]
  },
  {
   "cell_type": "markdown",
   "metadata": {},
   "source": [
    "**22.**  Integer değerlere sahip 'A' kolonunu içeren DataFrame `df`'imiz var. Örnek olarak:\n",
    "```python\n",
    "df = pd.DataFrame({'A': [1, 2, 2, 3, 4, 5, 5, 5, 6, 7, 7]})\n",
    "\n",
    "```\n",
    "Hemen yukarıdaki satırla aynı tamsayıyı içeren satırları nasıl filtrelersiniz?\n"
   ]
  },
  {
   "cell_type": "code",
   "execution_count": null,
   "metadata": {
    "collapsed": true
   },
   "outputs": [],
   "source": []
  },
  {
   "cell_type": "markdown",
   "metadata": {},
   "source": [
    "**23.** Sayısal değerlerden oluşan bir DataFrame verildiğinde,\n",
    "```python\n",
    "df = pd.DataFrame(np.random.random(size=(5, 3))) # a 5x3 frame of float values\n",
    "```\n",
    "\n",
    "Satırdaki her öğeden satır ortalamasını nasıl çıkarırsınız?\n"
   ]
  },
  {
   "cell_type": "code",
   "execution_count": null,
   "metadata": {
    "collapsed": true
   },
   "outputs": [],
   "source": []
  },
  {
   "cell_type": "markdown",
   "metadata": {},
   "source": [
    "**24.** Örneğin, reel sayıda 10 sütun içeren DataFrame'iniz olduğunu varsayalım:\n",
    "\n",
    "\n",
    "```python\n",
    "df = pd.DataFrame(np.random.random(size=(5, 10)), columns=list('abcdefghij'))\n",
    "```\n",
    "Hangi sayı sütunu en küçük toplamı içerir? (Bu sütunun etiketini bulun.)\n"
   ]
  },
  {
   "cell_type": "code",
   "execution_count": null,
   "metadata": {
    "collapsed": true
   },
   "outputs": [],
   "source": []
  },
  {
   "cell_type": "markdown",
   "metadata": {},
   "source": [
    "**25.** Bir DataFrame'in kaç tane benzersiz(unique) satırı olduğunu (yani, yinelenen tüm satırları yoksay) nasıl sayarsınız?"
   ]
  },
  {
   "cell_type": "code",
   "execution_count": null,
   "metadata": {
    "collapsed": true
   },
   "outputs": [],
   "source": []
  },
  {
   "cell_type": "markdown",
   "metadata": {},
   "source": [
    "Sonraki üç bulmaca biraz daha zor ...\n",
    "\n",
    "**26.** Ondalıklı sayıların 10 sütunundan oluşan bir DataFrame'iniz var. Her satırda tam olarak 5 girişin NaN değerleri olduğunu varsayalım. DataFrame'in her satırı için *üçüncü* NaN değerini içeren  *sütunu* bulun.\n",
    "\n",
    "(Kolon etiketlerinin Serisini print etmelisiniz.)"
   ]
  },
  {
   "cell_type": "code",
   "execution_count": null,
   "metadata": {
    "collapsed": true
   },
   "outputs": [],
   "source": []
  },
  {
   "cell_type": "markdown",
   "metadata": {},
   "source": [
    "**27.** Bir DataFrame, bir grup 'grps' sütununa ve 'vals' sayı sütununa sahiptir. Örneğin: \n",
    "\n",
    "```python\n",
    "df = pd.DataFrame({'grps': list('aaabbcaabcccbbc'), \n",
    "                   'vals': [12,345,3,1,45,14,4,52,54,23,235,21,57,3,87]})\n",
    "```\n",
    "Her * grup* için, en büyük üç değerin toplamını bulun.\n"
   ]
  },
  {
   "cell_type": "code",
   "execution_count": null,
   "metadata": {
    "collapsed": true
   },
   "outputs": [],
   "source": []
  },
  {
   "cell_type": "markdown",
   "metadata": {},
   "source": [
    "**28.** Bir DataFrame iki tamsayı sütununa 'A' ve 'B' sahiptir. 'A' daki değerler 1 ile 100 (dahil) arasındadır. 'A' (yani, (0, 10) `,` (10, 20] `, ...) 'de birbirini izleyen 10 tam sayıdaki her bir grup için,' B 'sütununda karşılık gelen değerlerin toplamını hesaplayın."
   ]
  },
  {
   "cell_type": "code",
   "execution_count": null,
   "metadata": {
    "collapsed": true
   },
   "outputs": [],
   "source": []
  },
  {
   "cell_type": "markdown",
   "metadata": {},
   "source": [
    "## DataFrames: daha zor problemler\n",
    "\n",
    "### Bunlar kutunun dışında biraz düşünmeyi gerektirebilir ...\n",
    "\n",
    "... ama hepsi sadece normal pandas / NumPy yöntemlerini kullanarak çözülebilirler (ve dolayısı ile 'for` döngülerinin kullanılmasını önlerler).\n",
    "\n",
    "Zorluk: * zor *"
   ]
  },
  {
   "cell_type": "markdown",
   "metadata": {},
   "source": [
    "**29.** 'X'  tamsayı sütununa sahip olan bir DataFrame `df 'düşünün:\n",
    "\n",
    "```python\n",
    "df = pd.DataFrame({'X': [7, 2, 0, 3, 4, 2, 5, 0, 3, 4]})\n",
    "```\n",
    "Her bir değer için, farkı bir önceki sıfıra (veya Serisinin başlangıcına, hangisi daha yakınsa) geri sayar. Bu yüzden bu değerler `[1, 2, 0, 1, 2, 3, 4, 0, 1, 2]` olmalıdır. Bunu yeni bir \"Y\" sütunu yapın."
   ]
  },
  {
   "cell_type": "code",
   "execution_count": null,
   "metadata": {
    "collapsed": true
   },
   "outputs": [],
   "source": []
  },
  {
   "cell_type": "markdown",
   "metadata": {},
   "source": [
    "İşte bir alternatif bir yaklaşım [cookbook recipe](http://pandas.pydata.org/pandas-docs/stable/cookbook.html#grouping):"
   ]
  },
  {
   "cell_type": "code",
   "execution_count": null,
   "metadata": {
    "collapsed": true
   },
   "outputs": [],
   "source": []
  },
  {
   "cell_type": "markdown",
   "metadata": {},
   "source": [
    "**30.** Sadece sayısal verilerin satır ve sütunlarını içeren bir DataFrame düşünün. En büyük 3 değerin satır-kolon dizin konumlarının bir listesini oluşturun."
   ]
  },
  {
   "cell_type": "code",
   "execution_count": null,
   "metadata": {
    "collapsed": true
   },
   "outputs": [],
   "source": []
  },
  {
   "cell_type": "markdown",
   "metadata": {},
   "source": [
    "**31.** Grup Kimlikleri, 'grps' sütununa ve karşılık gelen tamsayı değerleri sütununa sahip bir DataFrame verildiğinde, 'vals', 'vals' içindeki herhangi bir negatif değeri grup ortalamasıyla değiştirin."
   ]
  },
  {
   "cell_type": "code",
   "execution_count": null,
   "metadata": {
    "collapsed": true
   },
   "outputs": [],
   "source": []
  },
  {
   "cell_type": "markdown",
   "metadata": {},
   "source": [
    "**32.** Implement a rolling mean over groups with window size 3, which ignores NaN value. For example consider the following DataFrame:\n",
    "\n",
    "```python\n",
    ">>> df = pd.DataFrame({'group': list('aabbabbbabab'),\n",
    "                       'value': [1, 2, 3, np.nan, 2, 3, \n",
    "                                 np.nan, 1, 7, 3, np.nan, 8]})\n",
    ">>> df\n",
    "   group  value\n",
    "0      a    1.0\n",
    "1      a    2.0\n",
    "2      b    3.0\n",
    "3      b    NaN\n",
    "4      a    2.0\n",
    "5      b    3.0\n",
    "6      b    NaN\n",
    "7      b    1.0\n",
    "8      a    7.0\n",
    "9      b    3.0\n",
    "10     a    NaN\n",
    "11     b    8.0\n",
    "```\n",
    "The goal is to compute the Series:\n",
    "\n",
    "```\n",
    "0     1.000000\n",
    "1     1.500000\n",
    "2     3.000000\n",
    "3     3.000000\n",
    "4     1.666667\n",
    "5     3.000000\n",
    "6     3.000000\n",
    "7     2.000000\n",
    "8     3.666667\n",
    "9     2.000000\n",
    "10    4.500000\n",
    "11    4.000000\n",
    "```\n",
    "E.g. the first window of size three for group 'b' has values 3.0, NaN and 3.0 and occurs at row index 5. Instead of being NaN the value in the new column at this row index should be 3.0 (just the two non-NaN values are used to compute the mean (3+3)/2)"
   ]
  },
  {
   "cell_type": "code",
   "execution_count": null,
   "metadata": {
    "collapsed": true
   },
   "outputs": [],
   "source": []
  },
  {
   "cell_type": "markdown",
   "metadata": {},
   "source": [
    "## Series ve DatetimeIndex\n",
    "\n",
    "# # # Verileri datetime verileriyle oluşturma ve işleme için alıştırmalar\n",
    "\n",
    "Zorluk: * kolay / orta *\n",
    "\n",
    "pandas tarihler ve saatler ile çalışmak için harika. Bu bulmacalar bu işlevin bazılarını araştırıyor."
   ]
  },
  {
   "cell_type": "markdown",
   "metadata": {},
   "source": [
    "**33.** 2015'in her iş gününü içeren bir DatetimeIndex oluşturun ve bir rasgele sayı dizisini dizine eklemek için kullanın. Bu diziyi `s` olarak adlandıralım."
   ]
  },
  {
   "cell_type": "code",
   "execution_count": null,
   "metadata": {
    "collapsed": true
   },
   "outputs": [],
   "source": []
  },
  {
   "cell_type": "markdown",
   "metadata": {},
   "source": [
    "**34.** Her Çarşamba için `s` cinsinden değerlerin toplamını bulun."
   ]
  },
  {
   "cell_type": "code",
   "execution_count": null,
   "metadata": {
    "collapsed": true
   },
   "outputs": [],
   "source": []
  },
  {
   "cell_type": "markdown",
   "metadata": {},
   "source": [
    "**35.** Her takvim ayı için `s`de, değerlerin ortalamasını bulun."
   ]
  },
  {
   "cell_type": "code",
   "execution_count": null,
   "metadata": {
    "collapsed": true
   },
   "outputs": [],
   "source": []
  },
  {
   "cell_type": "markdown",
   "metadata": {},
   "source": [
    "**36.** `s`'de dört ardışık takvim ayının her grubu için, en yüksek değerin gerçekleştiği tarihi bulun."
   ]
  },
  {
   "cell_type": "code",
   "execution_count": null,
   "metadata": {
    "collapsed": true
   },
   "outputs": [],
   "source": []
  },
  {
   "cell_type": "markdown",
   "metadata": {},
   "source": [
    "**37.** 2015 ve 2016 yılları için her ayın üçüncü Perşembesinden oluşan bir DateTimeIndex oluşturun."
   ]
  },
  {
   "cell_type": "code",
   "execution_count": null,
   "metadata": {
    "collapsed": true
   },
   "outputs": [],
   "source": []
  },
  {
   "cell_type": "markdown",
   "metadata": {},
   "source": [
    "## Temizlik Verileri\n",
    "\n",
    "### DataFrame'i çalışmak daha kolay\n",
    "\n",
    "Zorluk: * kolay / orta *\n",
    "\n",
    "Her zaman olur: birisi size hatalı biçimlendirilmiş dizeleri, Python, listeleri ve eksik verileri içeren veri verir. Analize katılabilmeniz için nasıl toparlıyorsunuz?\n",
    "\n",
    "Aşağıdaki bulmacalarda kullanmak için DataFrame olarak bu canavarlığı atın:\n",
    "\n",
    "```python\n",
    "df = pd.DataFrame({'From_To': ['LoNDon_paris', 'MAdrid_miLAN', 'londON_StockhOlm', \n",
    "                               'Budapest_PaRis', 'Brussels_londOn'],\n",
    "              'FlightNumber': [10045, np.nan, 10065, np.nan, 10085],\n",
    "              'RecentDelays': [[23, 47], [], [24, 43, 87], [13], [67, 32]],\n",
    "                   'Airline': ['KLM(!)', '<Air France> (12)', '(British Airways. )', \n",
    "                               '12. Air France', '\"Swiss Air\"']})\n",
    "```\n",
    "(Yaptığım bazı uçuş verileri, hiçbir şekilde doğru olması gerekmiyor.)\n"
   ]
  },
  {
   "cell_type": "markdown",
   "metadata": {},
   "source": [
    "**38.** FlightNumber sütunundaki bazı değerler eksik. Bu sayılar her satırda 10 ile artacak, böylece 10055 ve 10075'in yerine konması gerekiyor. Bu eksik sayıları doldurun ve sütunu bir tam sayı sütunu (bir kayan sütun yerine) yapın."
   ]
  },
  {
   "cell_type": "code",
   "execution_count": null,
   "metadata": {
    "collapsed": true
   },
   "outputs": [],
   "source": []
  },
  {
   "cell_type": "markdown",
   "metadata": {},
   "source": [
    "**39.** From_To sütunu iki ayrı sütun olarak daha iyi olurdu! Doğru değerleri olan yeni bir geçici DataFrame vermek için her dizeyi alt çizgi sınırlayıcısı _ üzerinde bölün. Bu geçici DataFrame'e doğru sütun adlarını atayın."
   ]
  },
  {
   "cell_type": "code",
   "execution_count": null,
   "metadata": {
    "collapsed": true
   },
   "outputs": [],
   "source": []
  },
  {
   "cell_type": "markdown",
   "metadata": {},
   "source": [
    "**40.** Bu geçici DataFrame'de şehir isimlerinin ilk harflerinin büyük küçüklüğünün nasıl karıştığına dikkat edin. Dizeleri, yalnızca ilk harfin büyük harf olacak şekilde standartlaştırılması (ör. \"LondON\", \"London\" haline gelmelidir.)"
   ]
  },
  {
   "cell_type": "code",
   "execution_count": null,
   "metadata": {
    "collapsed": true
   },
   "outputs": [],
   "source": []
  },
  {
   "cell_type": "markdown",
   "metadata": {},
   "source": [
    "**41.** From_To sütununu `df'den silin ve geçici DataFrame'i önceki sorulardan ekleyin."
   ]
  },
  {
   "cell_type": "code",
   "execution_count": null,
   "metadata": {
    "collapsed": true
   },
   "outputs": [],
   "source": []
  },
  {
   "cell_type": "markdown",
   "metadata": {},
   "source": [
    "**42**. Havayolu sütununda, bazı ekstra noktalama işaretleri görebilirsiniz ve hava yolu adlarının çevresinde semboller belirmiştir. Sadece havayolu ismini dışarı çekin. Örneğin. `` (British Airways.) '`` `British Airways' 'olmalıdır."
   ]
  },
  {
   "cell_type": "code",
   "execution_count": null,
   "metadata": {
    "collapsed": true
   },
   "outputs": [],
   "source": []
  },
  {
   "cell_type": "markdown",
   "metadata": {},
   "source": [
    "**43**. RecentDelays sütununda, değerler DataFrame'e bir liste olarak girilmiştir. Her bir ilk değeri kendi sütununda, her bir ikinci değeri kendi sütununda, vb. İstiyoruz. Bir Nth değeri yoksa, değer NaN olmalıdır.\n",
    "\n",
    "Listeler dizisini `delays` adlı bir DataFrame içine genişletin, `delay_1`, `delay_2` vb. Sütunlarını yeniden adlandırın ve `df`de istenmeyen RecentDelays  sütununu `delays` sütunuyla değiştirin."
   ]
  },
  {
   "cell_type": "code",
   "execution_count": null,
   "metadata": {
    "collapsed": true
   },
   "outputs": [],
   "source": []
  },
  {
   "cell_type": "markdown",
   "metadata": {},
   "source": [
    "DataFrame şimdi daha iyi görünmeli."
   ]
  },
  {
   "cell_type": "markdown",
   "metadata": {
    "collapsed": true
   },
   "source": [
    "## MultiIndexes'i Kullanma\n",
    "\n",
    "### Ek dizin seviyelerine sahip düz DataFrames ötesine geçin\n",
    "\n",
    "Zorluk: * orta *\n",
    "\n",
    "Önceki alıştırmalar, tek bir endeks seviyesi ile donatılmış DataFrames'ten verileri analiz etmemizi gördü. Ancak, pandalar ayrıca * çoklu * seviyeleri kullanarak verilerinizi dizine ekleme olasılığınızı da verir. Bu, bir Diziye veya DataFrame'e yeni boyutlar eklemek gibidir. Örneğin, bir Seri 1D'dir, ancak 2 seviyeli bir MultiIndex kullanarak, bir 2D DataFrame ile aynı işlevsellik kazanırız.\n",
    "\n",
    "Aşağıdaki bulmacalar, veri analizini geliştirmek için çoklu dizin seviyelerini nasıl kullanabileceğinizi araştırıyor.\n",
    "\n",
    "Isınmak için, iki indeksli bir dizi yapalım."
   ]
  },
  {
   "cell_type": "markdown",
   "metadata": {},
   "source": [
    "**44**. Verilen `letters = ['A', 'B', 'C']` ve `numbers = list(range(10))` listelerinden, iki listenin ürününden bir MultiIndex nesnesi oluşturun. Bir rastgele sayı dizisini indekslemek için kullanın. Buna `s` deyin.\n"
   ]
  },
  {
   "cell_type": "code",
   "execution_count": 3,
   "metadata": {
    "collapsed": true
   },
   "outputs": [],
   "source": []
  },
  {
   "cell_type": "markdown",
   "metadata": {},
   "source": [
    "**45.** `s`'in elemanlarının sözlük sırasında sıkontrol edin, sözlüksel olarak sıralanır (bu, bir MultiIndex ile doğru şekilde çalışmak için indeksleme için gerekli bir özelliktir)."
   ]
  },
  {
   "cell_type": "code",
   "execution_count": null,
   "metadata": {
    "collapsed": true
   },
   "outputs": [],
   "source": []
  },
  {
   "cell_type": "markdown",
   "metadata": {},
   "source": [
    "**46**. Select the labels `1`, `3` and `6` from the second level of the MultiIndexed Series."
   ]
  },
  {
   "cell_type": "code",
   "execution_count": null,
   "metadata": {
    "collapsed": true
   },
   "outputs": [],
   "source": []
  },
  {
   "cell_type": "markdown",
   "metadata": {},
   "source": [
    "**47**. Slice the Series `s`; slice up to label 'B' for the first level and from label 5 onwards for the second level."
   ]
  },
  {
   "cell_type": "code",
   "execution_count": null,
   "metadata": {
    "collapsed": true
   },
   "outputs": [],
   "source": []
  },
  {
   "cell_type": "markdown",
   "metadata": {},
   "source": [
    "**48**. Sum the values in `s` for each label in the first level (you should have Series giving you a total for labels A, B and C)."
   ]
  },
  {
   "cell_type": "code",
   "execution_count": null,
   "metadata": {
    "collapsed": true
   },
   "outputs": [],
   "source": []
  },
  {
   "cell_type": "markdown",
   "metadata": {},
   "source": [
    "**49**. Suppose that `sum()` (and other methods) did not accept a `level` keyword argument. How else could you perform the equivalent of `s.sum(level=1)`?"
   ]
  },
  {
   "cell_type": "code",
   "execution_count": null,
   "metadata": {
    "collapsed": true
   },
   "outputs": [],
   "source": []
  },
  {
   "cell_type": "markdown",
   "metadata": {},
   "source": [
    "**50**. Exchange the levels of the MultiIndex so we have an index of the form (letters, numbers). Is this new Series properly lexsorted? If not, sort it."
   ]
  },
  {
   "cell_type": "markdown",
   "metadata": {},
   "source": [
    "## Mayın Tarlası\n",
    "\n",
    "### Mayın Tarlası ızgarasında güvenli kareler için sayı üret\n",
    "\n",
    "Zorluk: *orta* ila *zor*\n",
    "\n",
    "Eğer  eski bir Windows sürümü kullandıysanız, [Minesweeper] (https://en.wikipedia.org/wiki/Minesweeper_(video_game) oynama şansınız çok yüksek. Oyuna aşina değilseniz, karelerden bir ızgara hayal edin: bu karelerin bazıları bir mayını gizler.Eğer bir mayına tıklarsanız, anında kaybedersiniz.Eğer güvenli bir kareyi tıklarsanız, size meydanlarda kaç mayın bulunduğunu söyleyen bir sayı ortaya çıkar. Oyunun amacı, bir mayın içermeyen ızgaradaki tüm kareleri ortaya çıkarmaktır.\n",
    "\n",
    "Bu bölümde, Mayın Tarlası oyunu için gerekli verileri içeren bir DataFrame yapacağız: karelerin koordinatları, karenin kaç mayın içerdiği ve bitişik meydanlarda bulunan mayın sayısı."
   ]
  },
  {
   "cell_type": "markdown",
   "metadata": {},
   "source": [
    "**51**. Mayın Tarlasını 5'e 4'lük bir alanda oynadığımızı varsayalım, mesela,\n",
    "```\n",
    "X = 5\n",
    "Y = 4\n",
    "```\n",
    "2 sütun içeren DataFrame `df` üreteceğiz, `'x'` ve `'y'` her koordinatı içerecek. Bunun için, verisetimiz şöyle başlamalı:\n",
    "```\n",
    "   x  y\n",
    "0  0  0\n",
    "1  0  1\n",
    "2  0  2\n",
    "```"
   ]
  },
  {
   "cell_type": "code",
   "execution_count": null,
   "metadata": {
    "collapsed": true
   },
   "outputs": [],
   "source": []
  },
  {
   "cell_type": "markdown",
   "metadata": {},
   "source": [
    "**52**. Bu DataFrame `df` için sıfır (güvenli) ve bir (mayın) sütunu oluşturun. Mayın olma olasılığı 0.4 olmalıdır."
   ]
  },
  {
   "cell_type": "code",
   "execution_count": null,
   "metadata": {
    "collapsed": true
   },
   "outputs": [],
   "source": []
  },
  {
   "cell_type": "markdown",
   "metadata": {},
   "source": [
    "**53**. Şimdi bu DataFrame için `'adjacent'` adı verilen yeni bir sütun oluşturun. Bu sütun, ızgaradaki bitişik karelerde bulunan maden sayısını içermelidir.\n",
    "(Mesela ilk satır için, yani koordinatı `(0, 0)` olan konum için, bu karelerde kaç mayın olduğunu sayın `(0, 1)`, `(1, 0)` and `(1, 1)`.)"
   ]
  },
  {
   "cell_type": "code",
   "execution_count": null,
   "metadata": {
    "collapsed": true
   },
   "outputs": [],
   "source": []
  },
  {
   "cell_type": "markdown",
   "metadata": {},
   "source": [
    "**54**. DataFrame'de mayın içeren satırlar için, `'adjacent'` sütunundaki karşılık gelen değerini NaN yapın."
   ]
  },
  {
   "cell_type": "code",
   "execution_count": null,
   "metadata": {
    "collapsed": true
   },
   "outputs": [],
   "source": []
  },
  {
   "cell_type": "markdown",
   "metadata": {},
   "source": [
    "**55**. Son olarak, DataFrame'i bitişik maden sayımlarının ızgarasına dönüştürün: sütunlar `x`'in koordinatıdır, satırlar `y` koordinatıdır."
   ]
  },
  {
   "cell_type": "code",
   "execution_count": null,
   "metadata": {
    "collapsed": true
   },
   "outputs": [],
   "source": []
  },
  {
   "cell_type": "markdown",
   "metadata": {},
   "source": [
    "## Plotting\n",
    "\n",
    "### Visualize trends and patterns in data\n",
    "\n",
    "Difficulty: *medium*\n",
    "\n",
    "To really get a good understanding of the data contained in your DataFrame, it is often essential to create plots: if you're lucky, trends and anomalies will jump right out at you. This functionality is baked into pandas and the puzzles below explore some of what's possible with the library.\n",
    "\n",
    "**56.** Pandas is highly integrated with the plotting library matplotlib, and makes plotting DataFrames very user-friendly! Plotting in a notebook environment usually makes use of the following boilerplate:\n",
    "\n",
    "```python\n",
    "import matplotlib.pyplot as plt\n",
    "%matplotlib inline\n",
    "plt.style.use('ggplot')\n",
    "```\n",
    "\n",
    "matplotlib is the plotting library which pandas' plotting functionality is built upon, and it is usually aliased to ```plt```.\n",
    "\n",
    "```%matplotlib inline``` tells the notebook to show plots inline, instead of creating them in a separate window.  \n",
    "\n",
    "```plt.style.use('ggplot')``` is a style theme that most people find agreeable, based upon the styling of R's ggplot package.\n",
    "\n",
    "For starters, make a scatter plot of this random data, but use black X's instead of the default markers. \n",
    "\n",
    "```df = pd.DataFrame({\"xs\":[1,5,2,8,1], \"ys\":[4,2,1,9,6]})```\n",
    "\n",
    "Consult the [documentation](https://pandas.pydata.org/pandas-docs/stable/generated/pandas.DataFrame.plot.html) if you get stuck!"
   ]
  },
  {
   "cell_type": "code",
   "execution_count": null,
   "metadata": {
    "collapsed": true
   },
   "outputs": [],
   "source": []
  },
  {
   "cell_type": "markdown",
   "metadata": {},
   "source": [
    "**57.** Columns in your DataFrame can also be used to modify colors and sizes.  Bill has been keeping track of his performance at work over time, as well as how good he was feeling that day, and whether he had a cup of coffee in the morning.  Make a plot which incorporates all four features of this DataFrame.\n",
    "\n",
    "(Hint:  If you're having trouble seeing the plot, try multiplying the Series which you choose to represent size by 10 or more)\n",
    "\n",
    "*The chart doesn't have to be pretty: this isn't a course in data viz!*\n",
    "\n",
    "```\n",
    "df = pd.DataFrame({\"productivity\":[5,2,3,1,4,5,6,7,8,3,4,8,9],\n",
    "                   \"hours_in\"    :[1,9,6,5,3,9,2,9,1,7,4,2,2],\n",
    "                   \"happiness\"   :[2,1,3,2,3,1,2,3,1,2,2,1,3],\n",
    "                   \"caffienated\" :[0,0,1,1,0,0,0,0,1,1,0,1,0]})\n",
    "```"
   ]
  },
  {
   "cell_type": "code",
   "execution_count": null,
   "metadata": {
    "collapsed": true
   },
   "outputs": [],
   "source": []
  },
  {
   "cell_type": "markdown",
   "metadata": {},
   "source": [
    "**58.**  What if we want to plot multiple things?  Pandas allows you to pass in a matplotlib *Axis* object for plots, and plots will also return an Axis object.\n",
    "\n",
    "Make a bar plot of monthly revenue with a line plot of monthly advertising spending (numbers in millions)\n",
    "\n",
    "```\n",
    "df = pd.DataFrame({\"revenue\":[57,68,63,71,72,90,80,62,59,51,47,52],\n",
    "                   \"advertising\":[2.1,1.9,2.7,3.0,3.6,3.2,2.7,2.4,1.8,1.6,1.3,1.9],\n",
    "                   \"month\":range(12)\n",
    "                  })\n",
    "```"
   ]
  },
  {
   "cell_type": "code",
   "execution_count": null,
   "metadata": {
    "collapsed": true
   },
   "outputs": [],
   "source": []
  },
  {
   "cell_type": "markdown",
   "metadata": {},
   "source": [
    "Şimdi hisse senedi fiyat verilerini analiz etmek için kullanılan çok yaygın bir araç olan şamdan grafiğini oluşturmaya hazırız. Bir şamdan grafiği, bir zaman aralığı boyunca bir stok için açılış, kapanış, en yüksek ve en düşük fiyatı gösterir. \"Şamdan\" ın rengi (çubuğun kalın kısmı), eğer hisse senedi açılış fiyatının üzerinde kapatılmışsa, ya da altındaysa kırmızıdır.\n",
    "\n",
    "![Candlestick Example](img/candle.jpg)\n",
    "\n",
    "This was initially designed to be a pandas plotting challenge, but it just so happens that this type of plot is just not feasible using pandas' methods.  If you are unfamiliar with matplotlib, we have provided a function that will plot the chart for you so long as you can use pandas to get the data into the correct format.\n",
    "\n",
    "Your first step should be to get the data in the correct format using pandas' time-series grouping function.  We would like each candle to represent an hour's worth of data.  You can write your own aggregation function which returns the open/high/low/close, but pandas has a built-in which also does this."
   ]
  },
  {
   "cell_type": "markdown",
   "metadata": {},
   "source": [
    "The below cell contains helper functions.  Call ```day_stock_data()``` to generate a DataFrame containing the prices a hypothetical stock sold for, and the time the sale occurred.  Call ```plot_candlestick(df)``` on your properly aggregated and formatted stock data to print the candlestick chart."
   ]
  },
  {
   "cell_type": "code",
   "execution_count": null,
   "metadata": {
    "collapsed": true
   },
   "outputs": [],
   "source": [
    "import numpy as np\n",
    "def float_to_time(x):\n",
    "    return str(int(x)) + \":\" + str(int(x%1 * 60)).zfill(2) + \":\" + str(int(x*60 % 1 * 60)).zfill(2)\n",
    "\n",
    "def day_stock_data():\n",
    "    #NYSE is open from 9:30 to 4:00\n",
    "    time = 9.5\n",
    "    price = 100\n",
    "    results = [(float_to_time(time), price)]\n",
    "    while time < 16:\n",
    "        elapsed = np.random.exponential(.001)\n",
    "        time += elapsed\n",
    "        if time > 16:\n",
    "            break\n",
    "        price_diff = np.random.uniform(.999, 1.001)\n",
    "        price *= price_diff\n",
    "        results.append((float_to_time(time), price))\n",
    "    \n",
    "    \n",
    "    df = pd.DataFrame(results, columns = ['time','price'])\n",
    "    df.time = pd.to_datetime(df.time)\n",
    "    return df\n",
    "\n",
    "#Don't read me unless you get stuck!\n",
    "def plot_candlestick(agg):\n",
    "    \"\"\"\n",
    "    agg is a DataFrame which has a DatetimeIndex and five columns: [\"open\",\"high\",\"low\",\"close\",\"color\"]\n",
    "    \"\"\"\n",
    "    fig, ax = plt.subplots()\n",
    "    for time in agg.index:\n",
    "        ax.plot([time.hour] * 2, agg.loc[time, [\"high\",\"low\"]].values, color = \"black\")\n",
    "        ax.plot([time.hour] * 2, agg.loc[time, [\"open\",\"close\"]].values, color = agg.loc[time, \"color\"], linewidth = 10)\n",
    "\n",
    "    ax.set_xlim((8,16))\n",
    "    ax.set_ylabel(\"Price\")\n",
    "    ax.set_xlabel(\"Hour\")\n",
    "    ax.set_title(\"OHLC of Stock Value During Trading Day\")\n",
    "    plt.show()"
   ]
  },
  {
   "cell_type": "markdown",
   "metadata": {},
   "source": [
    "**59.** Bir güne ait rastgele stok verisi oluşturun ve açılış, en yüksek, en düşük ve kapanış fiyatlarının saatlik özetlerini alması için toplayın / yeniden biçimlendirin.\n"
   ]
  },
  {
   "cell_type": "code",
   "execution_count": null,
   "metadata": {
    "collapsed": true
   },
   "outputs": [],
   "source": []
  },
  {
   "cell_type": "markdown",
   "metadata": {},
   "source": [
    "**60.** Artık düzgün biçimlendirilmiş verilerinize sahip olduğunuza göre, onu bir şamdan grafiği olarak çizmeye çalışın.\n",
    " ```plot_candlestick(df)``` fonksiyonunu kullanın, veyahut matplotlib'deki [```plot``` documentation](https://matplotlib.org/api/_as_gen/matplotlib.axes.Axes.plot.html) dokumentasyona bakın."
   ]
  },
  {
   "cell_type": "code",
   "execution_count": null,
   "metadata": {
    "collapsed": true
   },
   "outputs": [],
   "source": []
  },
  {
   "cell_type": "markdown",
   "metadata": {},
   "source": [
    "\n",
    "* Yakında daha fazla egzersiz gelecek ... *"
   ]
  }
 ],
 "metadata": {
  "kernelspec": {
   "display_name": "Python 3",
   "language": "python",
   "name": "python3"
  },
  "language_info": {
   "codemirror_mode": {
    "name": "ipython",
    "version": 3
   },
   "file_extension": ".py",
   "mimetype": "text/x-python",
   "name": "python",
   "nbconvert_exporter": "python",
   "pygments_lexer": "ipython3",
   "version": "3.6.6"
  }
 },
 "nbformat": 4,
 "nbformat_minor": 1
}
